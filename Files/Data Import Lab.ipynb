{
 "cells": [
  {
   "cell_type": "markdown",
   "id": "b536e731",
   "metadata": {},
   "source": [
    "# Ungraded Lab: Data Import Lab"
   ]
  },
  {
   "cell_type": "markdown",
   "id": "5f866136",
   "metadata": {},
   "source": [
    "## Overview \n",
    "Your team at EngageMetrics, a leading employee engagement analytics company, has just received datasets from multiple sources that need to be consolidated for an urgent executive presentation. The data includes employee feedback from regional offices in CSV format, educational achievement records in Excel spreadsheets, and compensation benchmarks from an external API. The leadership team needs insights on employee engagement trends by tomorrow morning.\n",
    "<br>\n",
    "In this hands-on lab, you'll learn how to efficiently import and process this scattered data using Python. You'll work with real EngageMetrics datasets containing employee insights, educational records, and external market data, mastering the essential data import techniques needed to handle various file formats and common data challenges.\n",
    "\n",
    "<b>Pro tip:</b> Keep the lesson screencast handy while working through this lab. Even experienced developers regularly refer back to documentation and examples.\n",
    "\n",
    "## Learning Outcomes \n",
    "\n",
    "By the end of this lab, you will be able to:\n",
    "- Import data from CSV files using pandas\n",
    "- Load data from Excel files with proper formatting\n",
    "- Connect to and retrieve data from a REST API\n",
    "- Handle common data import challenges (missing values, inconsistent formats)\n",
    "\n",
    "## Dataset Information \n",
    "You'll work with two different EngageMetrics data sources and an external API from Wikipedia:\n",
    "\n",
    "1. <b>employee_insights.csv:</b> Employee performance and demographic data\n",
    "2. <b>education_data.xlsx:</b> Educational background information\n",
    "3. <b>Wikipedia REST API:</b> Income statistics in the United States"
   ]
  },
  {
   "cell_type": "markdown",
   "id": "8ff62287",
   "metadata": {},
   "source": [
    "## Activities\n",
    "\n",
    "### Activity 1: Regional Feedback Data Import\n",
    "\n",
    "Let's start with importing employee insights data from a CSV file. Import the quarterly employee engagement feedback data from all regions.  "
   ]
  },
  {
   "cell_type": "markdown",
   "id": "cc1e2679",
   "metadata": {},
   "source": [
    "<b>Step 1:</b> Import the required libraries first:"
   ]
  },
  {
   "cell_type": "code",
   "execution_count": 5,
   "id": "d508badc",
   "metadata": {},
   "outputs": [
    {
     "name": "stdout",
     "output_type": "stream",
     "text": [
      "Requirement already satisfied: pandas in /home/debasish/Desktop/async_programming/venv/lib/python3.12/site-packages (2.3.2)\n",
      "Collecting requests\n",
      "  Using cached requests-2.32.5-py3-none-any.whl.metadata (4.9 kB)\n",
      "Requirement already satisfied: numpy>=1.26.0 in /home/debasish/Desktop/async_programming/venv/lib/python3.12/site-packages (from pandas) (2.3.2)\n",
      "Requirement already satisfied: python-dateutil>=2.8.2 in /home/debasish/Desktop/async_programming/venv/lib/python3.12/site-packages (from pandas) (2.9.0.post0)\n",
      "Requirement already satisfied: pytz>=2020.1 in /home/debasish/Desktop/async_programming/venv/lib/python3.12/site-packages (from pandas) (2025.2)\n",
      "Requirement already satisfied: tzdata>=2022.7 in /home/debasish/Desktop/async_programming/venv/lib/python3.12/site-packages (from pandas) (2025.2)\n",
      "Collecting charset_normalizer<4,>=2 (from requests)\n",
      "  Using cached charset_normalizer-3.4.3-cp312-cp312-manylinux2014_x86_64.manylinux_2_17_x86_64.manylinux_2_28_x86_64.whl.metadata (36 kB)\n",
      "Collecting idna<4,>=2.5 (from requests)\n",
      "  Using cached idna-3.10-py3-none-any.whl.metadata (10 kB)\n",
      "Collecting urllib3<3,>=1.21.1 (from requests)\n",
      "  Using cached urllib3-2.5.0-py3-none-any.whl.metadata (6.5 kB)\n",
      "Collecting certifi>=2017.4.17 (from requests)\n",
      "  Using cached certifi-2025.8.3-py3-none-any.whl.metadata (2.4 kB)\n",
      "Requirement already satisfied: six>=1.5 in /home/debasish/Desktop/async_programming/venv/lib/python3.12/site-packages (from python-dateutil>=2.8.2->pandas) (1.17.0)\n",
      "Using cached requests-2.32.5-py3-none-any.whl (64 kB)\n",
      "Using cached certifi-2025.8.3-py3-none-any.whl (161 kB)\n",
      "Using cached charset_normalizer-3.4.3-cp312-cp312-manylinux2014_x86_64.manylinux_2_17_x86_64.manylinux_2_28_x86_64.whl (151 kB)\n",
      "Using cached idna-3.10-py3-none-any.whl (70 kB)\n",
      "Using cached urllib3-2.5.0-py3-none-any.whl (129 kB)\n",
      "Installing collected packages: urllib3, idna, charset_normalizer, certifi, requests\n",
      "Successfully installed certifi-2025.8.3 charset_normalizer-3.4.3 idna-3.10 requests-2.32.5 urllib3-2.5.0\n",
      "\n",
      "\u001b[1m[\u001b[0m\u001b[34;49mnotice\u001b[0m\u001b[1;39;49m]\u001b[0m\u001b[39;49m A new release of pip is available: \u001b[0m\u001b[31;49m24.2\u001b[0m\u001b[39;49m -> \u001b[0m\u001b[32;49m25.2\u001b[0m\n",
      "\u001b[1m[\u001b[0m\u001b[34;49mnotice\u001b[0m\u001b[1;39;49m]\u001b[0m\u001b[39;49m To update, run: \u001b[0m\u001b[32;49mpip install --upgrade pip\u001b[0m\n"
     ]
    }
   ],
   "source": [
    "# Import required libraries\n",
    "!pip install pandas requests\n",
    "import pandas as pd\n",
    "import requests\n",
    "import json\n",
    "from datetime import datetime"
   ]
  },
  {
   "cell_type": "markdown",
   "id": "bc978632",
   "metadata": {},
   "source": [
    "<b>Step 2:</b> Import and examine the CSV data:"
   ]
  },
  {
   "cell_type": "code",
   "execution_count": 6,
   "id": "be56f506",
   "metadata": {},
   "outputs": [
    {
     "data": {
      "text/html": [
       "<div>\n",
       "<style scoped>\n",
       "    .dataframe tbody tr th:only-of-type {\n",
       "        vertical-align: middle;\n",
       "    }\n",
       "\n",
       "    .dataframe tbody tr th {\n",
       "        vertical-align: top;\n",
       "    }\n",
       "\n",
       "    .dataframe thead th {\n",
       "        text-align: right;\n",
       "    }\n",
       "</style>\n",
       "<table border=\"1\" class=\"dataframe\">\n",
       "  <thead>\n",
       "    <tr style=\"text-align: right;\">\n",
       "      <th></th>\n",
       "      <th>employee_id</th>\n",
       "      <th>age</th>\n",
       "      <th>salary</th>\n",
       "      <th>promotion_eligible</th>\n",
       "      <th>last_training_date</th>\n",
       "      <th>department</th>\n",
       "      <th>work_experience</th>\n",
       "      <th>projects_completed</th>\n",
       "      <th>hours_worked_weekly</th>\n",
       "      <th>work_mode</th>\n",
       "      <th>last_promotion_date</th>\n",
       "      <th>satisfaction_score</th>\n",
       "      <th>overtime_hours</th>\n",
       "    </tr>\n",
       "  </thead>\n",
       "  <tbody>\n",
       "    <tr>\n",
       "      <th>0</th>\n",
       "      <td>E0001</td>\n",
       "      <td>54.0</td>\n",
       "      <td>NaN</td>\n",
       "      <td>NaN</td>\n",
       "      <td>15/08/2023</td>\n",
       "      <td>HR</td>\n",
       "      <td>NaN</td>\n",
       "      <td>14.0</td>\n",
       "      <td>NaN</td>\n",
       "      <td>remote work</td>\n",
       "      <td>2022-05-10</td>\n",
       "      <td>NaN</td>\n",
       "      <td>8.4</td>\n",
       "    </tr>\n",
       "    <tr>\n",
       "      <th>1</th>\n",
       "      <td>E0002</td>\n",
       "      <td>NaN</td>\n",
       "      <td>$64761</td>\n",
       "      <td>N</td>\n",
       "      <td>15/08/2023</td>\n",
       "      <td>NaN</td>\n",
       "      <td>1 years</td>\n",
       "      <td>NaN</td>\n",
       "      <td>53.3</td>\n",
       "      <td>HYBRID</td>\n",
       "      <td>05-10-2022</td>\n",
       "      <td>NaN</td>\n",
       "      <td>8.1</td>\n",
       "    </tr>\n",
       "    <tr>\n",
       "      <th>2</th>\n",
       "      <td>E0003</td>\n",
       "      <td>54.0</td>\n",
       "      <td>NaN</td>\n",
       "      <td>N</td>\n",
       "      <td>15/08/2023</td>\n",
       "      <td>Marketing</td>\n",
       "      <td>8</td>\n",
       "      <td>6.0</td>\n",
       "      <td>32.6</td>\n",
       "      <td>Hybrid</td>\n",
       "      <td>10/05/2022</td>\n",
       "      <td>10.0</td>\n",
       "      <td>5.2</td>\n",
       "    </tr>\n",
       "    <tr>\n",
       "      <th>3</th>\n",
       "      <td>E0004</td>\n",
       "      <td>NaN</td>\n",
       "      <td>NaN</td>\n",
       "      <td>No</td>\n",
       "      <td>NaN</td>\n",
       "      <td>NaN</td>\n",
       "      <td>16</td>\n",
       "      <td>1.0</td>\n",
       "      <td>37.8</td>\n",
       "      <td>Remote</td>\n",
       "      <td>05-10-2022</td>\n",
       "      <td>5.0</td>\n",
       "      <td>NaN</td>\n",
       "    </tr>\n",
       "    <tr>\n",
       "      <th>4</th>\n",
       "      <td>E0005</td>\n",
       "      <td>29.0</td>\n",
       "      <td>$61486</td>\n",
       "      <td>Y</td>\n",
       "      <td>15/08/2023</td>\n",
       "      <td>NaN</td>\n",
       "      <td>NaN</td>\n",
       "      <td>1.0</td>\n",
       "      <td>53.3</td>\n",
       "      <td>Hybrid</td>\n",
       "      <td>2022-05-10</td>\n",
       "      <td>NaN</td>\n",
       "      <td>0.3</td>\n",
       "    </tr>\n",
       "  </tbody>\n",
       "</table>\n",
       "</div>"
      ],
      "text/plain": [
       "  employee_id   age  salary promotion_eligible last_training_date department  \\\n",
       "0       E0001  54.0     NaN                NaN         15/08/2023         HR   \n",
       "1       E0002   NaN  $64761                  N         15/08/2023        NaN   \n",
       "2       E0003  54.0     NaN                  N         15/08/2023  Marketing   \n",
       "3       E0004   NaN     NaN                 No                NaN        NaN   \n",
       "4       E0005  29.0  $61486                  Y         15/08/2023        NaN   \n",
       "\n",
       "  work_experience  projects_completed  hours_worked_weekly    work_mode  \\\n",
       "0             NaN                14.0                  NaN  remote work   \n",
       "1         1 years                 NaN                 53.3       HYBRID   \n",
       "2               8                 6.0                 32.6       Hybrid   \n",
       "3              16                 1.0                 37.8       Remote   \n",
       "4             NaN                 1.0                 53.3       Hybrid   \n",
       "\n",
       "  last_promotion_date  satisfaction_score  overtime_hours  \n",
       "0          2022-05-10                 NaN             8.4  \n",
       "1          05-10-2022                 NaN             8.1  \n",
       "2          10/05/2022                10.0             5.2  \n",
       "3          05-10-2022                 5.0             NaN  \n",
       "4          2022-05-10                 NaN             0.3  "
      ]
     },
     "execution_count": 6,
     "metadata": {},
     "output_type": "execute_result"
    }
   ],
   "source": [
    "# Import the employee insights data\n",
    "employee_df = pd.read_csv('employee_insights.csv')\n",
    "\n",
    "# Display the first few rows\n",
    "# YOUR CODE HERE  \n",
    "employee_df.head()"
   ]
  },
  {
   "cell_type": "markdown",
   "id": "b3590c7f",
   "metadata": {},
   "source": [
    "<b>Tip:</b> Check the data types of your columns after import to ensure they're appropriate"
   ]
  },
  {
   "cell_type": "markdown",
   "id": "5cee29f9",
   "metadata": {},
   "source": [
    "<b>Step 3:</b> Handle data quality issues:\n",
    "- Examine missing values\n",
    "- Check for inconsistent date formats"
   ]
  },
  {
   "cell_type": "code",
   "execution_count": null,
   "id": "6de94c4d",
   "metadata": {},
   "outputs": [
    {
     "data": {
      "text/plain": [
       "employee_id             0\n",
       "age                    56\n",
       "salary                 37\n",
       "promotion_eligible     16\n",
       "last_training_date     29\n",
       "department             15\n",
       "work_experience        29\n",
       "projects_completed     52\n",
       "hours_worked_weekly    33\n",
       "work_mode              16\n",
       "last_promotion_date    26\n",
       "satisfaction_score     39\n",
       "overtime_hours         30\n",
       "dtype: int64"
      ]
     },
     "execution_count": 7,
     "metadata": {},
     "output_type": "execute_result"
    }
   ],
   "source": [
    "# Check for missing values\n",
    "# YOUR CODE HERE\n",
    "employee_df.isnull().sum()\n",
    "    \n",
    "# Identify inconsistent date formats \n",
    "# YOUR CODE HERE\n"
   ]
  },
  {
   "cell_type": "markdown",
   "id": "124b8d18",
   "metadata": {},
   "source": [
    "### Activity 2: Educational Records Import\n",
    "Now let's work with the educational background data from an Excel file. Process the talent development team's educational background data."
   ]
  },
  {
   "cell_type": "markdown",
   "id": "769d3bb6",
   "metadata": {},
   "source": [
    "<b>Step 1:</b> Load the excel file: "
   ]
  },
  {
   "cell_type": "code",
   "execution_count": null,
   "id": "090b61a1",
   "metadata": {},
   "outputs": [],
   "source": [
    "# Import the education data\n",
    "# YOUR CODE HERE \n",
    "\n",
    "# Display the first few rows\n",
    "# YOUR CODE HERE "
   ]
  },
  {
   "cell_type": "markdown",
   "id": "4fa69828",
   "metadata": {},
   "source": [
    "<b>Step 2:</b> Data validation:\n",
    "- Verify graduation years are in the correct format\n",
    "- Check for any missing educational backgrounds"
   ]
  },
  {
   "cell_type": "code",
   "execution_count": null,
   "id": "f281898d",
   "metadata": {},
   "outputs": [],
   "source": [
    "# Verify whether graduation years are in the correct format\n",
    "# YOUR CODE HERE \n",
    "  \n",
    "# Check if there are any missing educational backgrounds\n",
    "# YOUR CODE HERE"
   ]
  },
  {
   "cell_type": "markdown",
   "id": "97e92c12",
   "metadata": {},
   "source": [
    "<b>Tip:</b> Sometimes data might be clean and in correct format, but it's always good to verify before proceeding further"
   ]
  },
  {
   "cell_type": "markdown",
   "id": "a8b47e56",
   "metadata": {},
   "source": [
    "### Activity 3: Compensation Benchmark Data Import\n",
    "Finally, let's retrieve data from the Wikipedia API. Retrieve industry compensation data for comparison."
   ]
  },
  {
   "cell_type": "markdown",
   "id": "b4f8f1d5",
   "metadata": {},
   "source": [
    "<b>Step 1:</b> Make an API request: "
   ]
  },
  {
   "cell_type": "code",
   "execution_count": null,
   "id": "2e92ead9",
   "metadata": {},
   "outputs": [],
   "source": [
    "# Make the API request\n",
    "url = \"https://en.wikipedia.org/api/rest_v1/page/summary/Income_in_the_United_States\"\n",
    "# YOUR CODE HERE \n",
    "\n",
    "# Parse the JSON response\n",
    "# YOUR CODE HERE "
   ]
  },
  {
   "cell_type": "markdown",
   "id": "05579daa",
   "metadata": {},
   "source": [
    "<b>Step 2:</b> Extract relevant information: Get the article summary:"
   ]
  },
  {
   "cell_type": "code",
   "execution_count": null,
   "id": "e15d61b1",
   "metadata": {},
   "outputs": [],
   "source": [
    "# Extract and display the article summary\n",
    "# YOUR CODE HERE"
   ]
  },
  {
   "cell_type": "markdown",
   "id": "5684a49c",
   "metadata": {},
   "source": [
    "#### Test Your Work:\n",
    "1. Verify that all three datasets are loaded successfully\n",
    "2. Confirm the data types are correct in each dataset\n",
    "3. Check that you can access specific columns and rows\n",
    "4. Ensure API response contains expected fields\n",
    "\n",
    "## Success Checklist\n",
    "- Imported regional feedback data successfully\n",
    "- Processed educational achievement records\n",
    "- Retrieved current compensation benchmarks\n",
    "- Handled missing survey responses appropriately\n",
    "- Verified data quality across all sources\n",
    "- Documented data anomalies for the analytics team\n",
    "\n",
    "## Common Issues & Solutions \n",
    "- Problem: Regional feedback data shows inconsistent scoring\n",
    "    - Solution: Apply standardization across different regional formats\n",
    "- Problem: Training records show duplicate entries\n",
    "    - Solution: Implement deduplication logic while preserving the most recent records\n",
    "- Problem: Benchmark API returns incomplete data\n",
    "    - Solution: Implement proper error handling and data validation checks\n",
    "\n",
    "## Summary \n",
    "Congratulations! You've successfully learned to import data from multiple sources (CSV, Excel, and API) using Python, and tackled real-world data quality challenges like handling missing values and inconsistent formats. Through this lab, you've gained practical experience with essential data import techniques that data scientists use daily, setting a strong foundation for more advanced data analysis tasks.\n",
    "\n",
    "### Key Points\n",
    "- Different data sources require different import approaches\n",
    "- Always validate data after import\n",
    "- Handle missing or inconsistent data appropriately\n",
    "- Document any data quality issues discovered"
   ]
  },
  {
   "cell_type": "markdown",
   "id": "9f7b5555",
   "metadata": {},
   "source": [
    "## Solution Code\n",
    "Stuck on your code or want to check your solution? Here's a complete reference implementation to guide you. This represents just one effective approach—try solving independently first, then use this to overcome obstacles or compare techniques. The solution is provided to help you move forward and explore alternative approaches to achieve the same results. Happy coding!"
   ]
  },
  {
   "cell_type": "markdown",
   "id": "8826d282",
   "metadata": {},
   "source": [
    "###  Activity 1: Regional Feedback Data Import - Solution Code"
   ]
  },
  {
   "cell_type": "code",
   "execution_count": null,
   "id": "59d13b4c",
   "metadata": {},
   "outputs": [],
   "source": [
    "# Step 2: Import and examine the CSV data\n",
    "employee_df = pd.read_csv('employee_insights.csv')\n",
    "\n",
    "# Display the first few rows\n",
    "print(\"Employee Data : \")\n",
    "print(employee_df.head())\n",
    "\n",
    "# Step 3: Handle data quality issues\n",
    "# Check for missing values\n",
    "print(employee_df.isnull().sum())\n",
    "\n",
    "# Check for inconsistent date formats\n",
    "def is_date(string):\n",
    "    try:\n",
    "        datetime.strptime(str(string), '%Y-%m-%d')\n",
    "        return True\n",
    "    except ValueError:\n",
    "        return False\n",
    "\n",
    "date_columns = ['last_training_date', 'last_promotion_date']\n",
    "for col in date_columns:\n",
    "    inconsistent_dates = employee_df[~employee_df[col].apply(is_date)]\n",
    "    print(f\"Inconsistent dates in {col}:\")\n",
    "    print(inconsistent_dates[col])"
   ]
  },
  {
   "cell_type": "markdown",
   "id": "4eb3f3d1",
   "metadata": {},
   "source": [
    "### Activity 2: Excel Data Import - Solution Code"
   ]
  },
  {
   "cell_type": "code",
   "execution_count": null,
   "id": "1fdeae1f",
   "metadata": {},
   "outputs": [],
   "source": [
    "# Step 1: Load the Excel file\n",
    "education_data = pd.read_excel('education_data.xlsx')\n",
    "\n",
    "# Display the first few rows\n",
    "print(\"Education Data : \")\n",
    "print(education_data.head())\n",
    "\n",
    "# Step 2: Data validation\n",
    "# Verify graduation years are in the correct format\n",
    "def is_valid_year(year):\n",
    "    try:\n",
    "        year = int(year)\n",
    "        return 1900 <= year <= datetime.now().year\n",
    "    except ValueError:\n",
    "        return False\n",
    "\n",
    "invalid_years = education_data[~education_data['graduation_year'].apply(is_valid_year)]\n",
    "if invalid_years.empty:\n",
    "    print(\"All graduation years are well formatted.\")\n",
    "else:\n",
    "    print(\"Invalid graduation years:\")\n",
    "    print(invalid_years['graduation_year'])\n",
    "\n",
    "# Check is there are any missing educational backgrounds\n",
    "missing_education = education_data[education_data['educational_background'].isnull()]\n",
    "if missing_education.empty:\n",
    "    print(\"No missing educational backgrounds.\")\n",
    "else:\n",
    "    print(\"Missing educational backgrounds:\")\n",
    "    print(missing_education)"
   ]
  },
  {
   "cell_type": "markdown",
   "id": "f2c9f2a8",
   "metadata": {},
   "source": [
    "### Activity 3: Compensation Benchmark Data Import  - Solution Code"
   ]
  },
  {
   "cell_type": "code",
   "execution_count": null,
   "id": "77d45f8d",
   "metadata": {},
   "outputs": [],
   "source": [
    "# Step 1: Make an API request\n",
    "url = \"https://en.wikipedia.org/api/rest_v1/page/summary/Income_in_the_United_States\"\n",
    "response = requests.get(url)\n",
    "\n",
    "# Parse the JSON response\n",
    "data = response.json()\n",
    "\n",
    "# Step 2: Extract and display the article summary\n",
    "summary = data.get('extract', 'Summary not available')\n",
    "print(\"Article summary:\")\n",
    "print(summary)"
   ]
  }
 ],
 "metadata": {
  "kernelspec": {
   "display_name": "venv",
   "language": "python",
   "name": "python3"
  },
  "language_info": {
   "codemirror_mode": {
    "name": "ipython",
    "version": 3
   },
   "file_extension": ".py",
   "mimetype": "text/x-python",
   "name": "python",
   "nbconvert_exporter": "python",
   "pygments_lexer": "ipython3",
   "version": "3.12.7"
  }
 },
 "nbformat": 4,
 "nbformat_minor": 5
}
